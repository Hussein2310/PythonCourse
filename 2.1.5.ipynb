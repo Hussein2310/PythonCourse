{
 "cells": [
  {
   "cell_type": "code",
   "execution_count": 3,
   "id": "8a0a74a5",
   "metadata": {},
   "outputs": [
    {
     "name": "stdout",
     "output_type": "stream",
     "text": [
      "                   Name  Annual Leave  Sick Leave  Personal Leave  Bonus Leave\n",
      "215            Shen Lee            23          10               5            3\n",
      "216          Leon Buhle            20           8               4            0\n",
      "217         Tracy Adams            15          10               4            0\n",
      "218         Lebo Sinuka            19           9               0            3\n",
      "219       Lauren Pierce            21           7               5            3\n",
      "220         Monika Bond            21          10               2            6\n",
      "221      Natahs Allsopp            10           9               5            0\n",
      "222     Nicholas Winter            15          10               4            3\n",
      "223  Christopher Eckson            16           8               2            6\n",
      "224    Siobhan O’Malley            23           5               5            3\n"
     ]
    }
   ],
   "source": [
    "import pandas as pd\n",
    "data = {'Name':['Shen Lee', 'Leon Buhle', 'Tracy Adams', 'Lebo Sinuka', 'Lauren Pierce', 'Monika Bond', \n",
    "                'Natahs Allsopp', 'Nicholas Winter', 'Christopher Eckson', 'Siobhan O’Malley'], \n",
    "        'Annual Leave': [23,20,15,19,21,21,10,15,16,23],\n",
    "        'Sick Leave': [10,8,10,9,7,10,9,10,8,5],\n",
    "        'Personal Leave': [5,4,4,0,5,2,5,4,2,5],\n",
    "        'Bonus Leave': [3,0,0,3,3,6,0,3,6,3]}\n",
    "row_labels = (215,216,217,218,219,220,221,222,223,224)\n",
    "leave_cycle = pd.DataFrame(data, columns = ['Name', 'Annual Leave', \n",
    "                                            'Sick Leave', 'Personal Leave', \n",
    "                                            'Bonus Leave'],\n",
    "                                  index = row_labels)\n",
    "\n",
    "print(leave_cycle)\n",
    "    "
   ]
  },
  {
   "cell_type": "code",
   "execution_count": null,
   "id": "a3a901f5",
   "metadata": {},
   "outputs": [],
   "source": []
  }
 ],
 "metadata": {
  "kernelspec": {
   "display_name": "Python 3 (ipykernel)",
   "language": "python",
   "name": "python3"
  },
  "language_info": {
   "codemirror_mode": {
    "name": "ipython",
    "version": 3
   },
   "file_extension": ".py",
   "mimetype": "text/x-python",
   "name": "python",
   "nbconvert_exporter": "python",
   "pygments_lexer": "ipython3",
   "version": "3.9.13"
  }
 },
 "nbformat": 4,
 "nbformat_minor": 5
}
